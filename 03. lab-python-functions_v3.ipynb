{
 "cells": [
  {
   "cell_type": "markdown",
   "id": "25d7736c-ba17-4aff-b6bb-66eba20fbf4e",
   "metadata": {},
   "source": [
    "# Lab | Functions"
   ]
  },
  {
   "cell_type": "markdown",
   "id": "0c581062-8967-4d93-b06e-62833222f930",
   "metadata": {
    "tags": []
   },
   "source": [
    "## Exercise: Managing Customer Orders with Functions\n",
    "\n",
    "In the previous exercise, you improved the code for managing customer orders by using loops and flow control. Now, let's take it a step further and refactor the code by introducing functions.\n",
    "\n",
    "Follow the steps below to complete the exercise:\n",
    "\n",
    "1. Define a function named `initialize_inventory` that takes `products` as a parameter. Inside the function, implement the code for initializing the inventory dictionary using a loop and user input.\n",
    "\n",
    "2. Define a function named `get_customer_orders` that takes no parameters. Inside the function, implement the code for prompting the user to enter the product names using a loop. The function should return the `customer_orders` set.\n",
    "\n",
    "3. Define a function named `update_inventory` that takes `customer_orders` and `inventory` as parameters. Inside the function, implement the code for updating the inventory dictionary based on the customer orders.\n",
    "\n",
    "4. Define a function named `calculate_order_statistics` that takes `customer_orders` and `products` as parameters. Inside the function, implement the code for calculating the order statistics (total products ordered, and percentage of unique products ordered). The function should return these values.\n",
    "\n",
    "5. Define a function named `print_order_statistics` that takes `order_statistics` as a parameter. Inside the function, implement the code for printing the order statistics.\n",
    "\n",
    "6. Define a function named `print_updated_inventory` that takes `inventory` as a parameter. Inside the function, implement the code for printing the updated inventory.\n",
    "\n",
    "7. Call the functions in the appropriate sequence to execute the program and manage customer orders.\n",
    "\n",
    "Hints for functions:\n",
    "\n",
    "- Consider the input parameters required for each function and their return values.\n",
    "- Utilize function parameters and return values to transfer data between functions.\n",
    "- Test your functions individually to ensure they work correctly.\n",
    "\n"
   ]
  },
  {
   "cell_type": "code",
   "execution_count": 2,
   "id": "d8ec4d80",
   "metadata": {},
   "outputs": [
    {
     "name": "stdout",
     "output_type": "stream",
     "text": [
      "{'hat': 5, 'mug': 5, 'book': 5}\n"
     ]
    }
   ],
   "source": [
    "# 1.Define a function named `initialize_inventory` that takes `products` as a parameter. \n",
    "# Inside the function, implement the code for initializing the inventory dictionary using a loop and user input.\n",
    "\n",
    "def initialize_inventory(products: list) -> dict:\n",
    "    \"\"\"\n",
    "    Functions that creates an inventory based on user input\n",
    "\n",
    "    Args:\n",
    "    products (list): a list of products\n",
    "\n",
    "    Returns:\n",
    "    inventory (dict): a dictionary containing the products and their quantities\n",
    "\n",
    "    \"\"\"\n",
    "    inventory = {}\n",
    "    for product in products:\n",
    "        valid_input = False\n",
    "        while not valid_input:\n",
    "            product_quantity = int(input((f\"Please, enter the quantity for each product you added: {', ' .join(products)}\")))\n",
    "            if product_quantity >= 0:\n",
    "                inventory[product] = product_quantity\n",
    "                valid_input = True\n",
    "            else:\n",
    "                print(\"The quantity must be a positive numnber. Please, enter the quantity again\")\n",
    "    \n",
    "    return inventory\n",
    "\n",
    "\n",
    "#Calling the function\n",
    "products_1 = [\"hat\", \"mug\", \"book\"]\n",
    "inventory = initialize_inventory(products_1) \n",
    "print(inventory)\n"
   ]
  },
  {
   "cell_type": "code",
   "execution_count": 12,
   "id": "78b54671",
   "metadata": {},
   "outputs": [
    {
     "name": "stdout",
     "output_type": "stream",
     "text": [
      "{'mug', 'book', 'hat'}\n"
     ]
    }
   ],
   "source": [
    "#2. Define a function named `get_customer_orders` that takes no parameters. \n",
    "# Inside the function, implement the code for prompting the user to enter the product names using a loop.\n",
    "\n",
    "def get_customer_orders():\n",
    "    customer_orders = set()\n",
    "    add_another = 'yes'\n",
    "    while add_another == 'yes':\n",
    "        product_name = input(\"Enter the name of a product that a customer wants to order: \")\n",
    "        # todo error handeling\n",
    "        customer_orders.add(product_name)\n",
    "        add_another = (input(\"Do you want to add another product? (yes/no): \")).lower().strip()\n",
    "    return customer_orders\n",
    "\n",
    "customer_orders = get_customer_orders()\n",
    "print(customer_orders)"
   ]
  },
  {
   "cell_type": "code",
   "execution_count": 13,
   "id": "2e17feef",
   "metadata": {},
   "outputs": [
    {
     "name": "stdout",
     "output_type": "stream",
     "text": [
      "{'hat': 2, 'mug': 2, 'book': 2}\n"
     ]
    }
   ],
   "source": [
    "#3. Define a function named `update_inventory` that takes `customer_orders` and `inventory` as parameters.\n",
    "# Inside the function, implement the code for updating the inventory dictionary based on the customer orders.\n",
    "\n",
    "def update_inventory(customer_orders, inventory):\n",
    "    for product in customer_orders:\n",
    "        if product in inventory:\n",
    "            inventory[product]-= 1\n",
    "\n",
    "update_inventory(customer_orders, inventory) \n",
    "print(inventory)\n",
    "\n",
    "\n",
    "    "
   ]
  },
  {
   "cell_type": "code",
   "execution_count": 17,
   "id": "b21ce713",
   "metadata": {},
   "outputs": [
    {
     "data": {
      "text/plain": [
       "[3, 100.0]"
      ]
     },
     "execution_count": 17,
     "metadata": {},
     "output_type": "execute_result"
    }
   ],
   "source": [
    "#4. Define a function named `calculate_order_statistics` that takes `customer_orders` and `products` as parameters.\n",
    "# Inside the function, implement the code for calculating the order statistics (total products ordered, and percentage of unique products ordered).\n",
    "# The function should return these values.\n",
    "\n",
    "def calculate_order_statistics(customer_orders, products):\n",
    "    order_statistics = [len(customer_orders), (len(customer_orders)/len(products))*100]\n",
    "    return order_statistics\n",
    "\n",
    "calculate_order_statistics(customer_orders, products_1)\n"
   ]
  },
  {
   "cell_type": "code",
   "execution_count": 22,
   "id": "1efdcc24",
   "metadata": {},
   "outputs": [
    {
     "name": "stdout",
     "output_type": "stream",
     "text": [
      " Total products ordered is 3 \n",
      " which represents a percentage of 100.0 % \n"
     ]
    }
   ],
   "source": [
    "#5. Define a function named `print_order_statistics` that takes `order_statistics` as a parameter.\n",
    "# Inside the function, implement the code for printing the order statistics.\n",
    "def print_order_statistics(calculate_order_statistics:list):\n",
    "    return print(f' Total products ordered is {calculate_order_statistics[0]} \\n which represents a percentage of {calculate_order_statistics[1]} % ')\n",
    "\n",
    "print_order_statistics(calculate_order_statistics(customer_orders, products_1))"
   ]
  },
  {
   "cell_type": "code",
   "execution_count": 23,
   "id": "4fbc0121",
   "metadata": {},
   "outputs": [],
   "source": [
    "#6. Define a function named `print_updated_inventory` that takes `inventory` as a parameter.\n",
    "# Inside the function, implement the code for printing the updated inventory.\n",
    "def print_updated_inventory(updated_inventory):\n",
    "    return print(f'Updated inventory: {updated_inventory}')\n",
    "\n",
    "\n"
   ]
  },
  {
   "cell_type": "code",
   "execution_count": 25,
   "id": "35824950",
   "metadata": {},
   "outputs": [
    {
     "name": "stdout",
     "output_type": "stream",
     "text": [
      "{'hat': 5, 'mug': 5, 'book': 5}\n",
      "{'mug', 'book', 'hat'}\n",
      "{'hat': 4, 'mug': 4, 'book': 4}\n",
      " Total products ordered is 3 \n",
      " which represents a percentage of 100.0 % \n"
     ]
    }
   ],
   "source": [
    "#Calling the function\n",
    "products_1 = [\"hat\", \"mug\", \"book\"]\n",
    "inventory = initialize_inventory(products_1) \n",
    "print(inventory)\n",
    "\n",
    "customer_orders = get_customer_orders()\n",
    "print(customer_orders)\n",
    "\n",
    "update_inventory(customer_orders, inventory) \n",
    "print(inventory)\n",
    "\n",
    "print_order_statistics(calculate_order_statistics(customer_orders, products_1))"
   ]
  },
  {
   "cell_type": "code",
   "execution_count": 24,
   "id": "57d7c4fb",
   "metadata": {},
   "outputs": [
    {
     "name": "stdout",
     "output_type": "stream",
     "text": [
      " Total products ordered is 3 \n",
      " which represents a percentage of 100.0 % \n",
      "Updated inventory: None\n"
     ]
    }
   ],
   "source": [
    "#7 Call the functions in the appropriate sequence to execute the program and manage customer orders.\n",
    "products_1 = [\"hat\", \"mug\", \"book\"]\n",
    "var1 = initialize_inventory(products_1)\n",
    "var2 = get_customer_orders()\n",
    "var3 = update_inventory(var2, var1)\n",
    "var4 = calculate_order_statistics(var2, products_1)\n",
    "var5 = print_order_statistics(var4)\n",
    "var6 = print_updated_inventory(var3)\n",
    "\n",
    "\n"
   ]
  },
  {
   "cell_type": "code",
   "execution_count": null,
   "id": "fee205c6",
   "metadata": {},
   "outputs": [],
   "source": []
  }
 ],
 "metadata": {
  "kernelspec": {
   "display_name": "Python 3 (ipykernel)",
   "language": "python",
   "name": "python3"
  },
  "language_info": {
   "codemirror_mode": {
    "name": "ipython",
    "version": 3
   },
   "file_extension": ".py",
   "mimetype": "text/x-python",
   "name": "python",
   "nbconvert_exporter": "python",
   "pygments_lexer": "ipython3",
   "version": "3.11.7"
  }
 },
 "nbformat": 4,
 "nbformat_minor": 5
}
